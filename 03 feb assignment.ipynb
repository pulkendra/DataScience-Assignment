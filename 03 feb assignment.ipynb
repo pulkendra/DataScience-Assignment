{
 "cells": [
  {
   "cell_type": "markdown",
   "id": "888cbc77-fb92-4fc6-8f34-296d7c40eb0c",
   "metadata": {},
   "source": [
    "Q1. Which keyword is used to create a function? Create a function to return a list of odd numbers in the\n",
    "    range of 1 to 25."
   ]
  },
  {
   "cell_type": "markdown",
   "id": "8ab8da65-1c1d-4406-90e5-25b0cfb5c2c9",
   "metadata": {},
   "source": [
    "Ans. def keyword is used to create a function."
   ]
  },
  {
   "cell_type": "code",
   "execution_count": 22,
   "id": "8bd2dd24-1a7a-4004-bb8b-986756d5fdab",
   "metadata": {},
   "outputs": [],
   "source": [
    "def odd_no():\n",
    "    l=[]\n",
    "    p=range(1,26)\n",
    "    for i in p:\n",
    "        if i%2 !=0:\n",
    "            l.append(i)\n",
    "    return l"
   ]
  },
  {
   "cell_type": "markdown",
   "id": "c7af1f1f-437e-4d8a-805e-2fbb4e43124c",
   "metadata": {},
   "source": [
    "Q2. Why *args and **kwargs is used in some functions? Create a function each for *args and **kwargs\n",
    "    to demonstrate their use."
   ]
  },
  {
   "cell_type": "markdown",
   "id": "c5df72ae-b43b-4f57-bd31-f10553e72908",
   "metadata": {},
   "source": [
    "Ans. In a function *args is used to pass n number of arguments that a user want in which args returns all the arguments ia a tuple form.\n",
    "But in a function **kwargs is also used to pass n numbers of arguments by user but it returns all the arguments is form of dictionary and user have to pass the arguments in form of key and value pairs."
   ]
  },
  {
   "cell_type": "code",
   "execution_count": null,
   "id": "f421ebd6-a1fa-4c67-998a-45c78e346c6a",
   "metadata": {},
   "outputs": [],
   "source": [
    "def func1(*args):\n",
    "    return args"
   ]
  },
  {
   "cell_type": "code",
   "execution_count": null,
   "id": "5acc1c20-9cca-480d-ab14-96f6fae90256",
   "metadata": {},
   "outputs": [],
   "source": [
    "def func2(**kwargs):\n",
    "    return kwargs"
   ]
  },
  {
   "cell_type": "markdown",
   "id": "db82ac4a-b5b5-4fe5-9db2-1317d7d230c4",
   "metadata": {},
   "source": [
    "Q3. What is an iterator in python? Name the method used to initialise the iterator object and the method\n",
    "    used for iteration. Use these methods to print the first five elements of the given list [2, 4, 6, 8, 10, 12, 14,\n",
    "    16, 18, 20]."
   ]
  },
  {
   "cell_type": "markdown",
   "id": "5e0bfc10-24e8-4e4b-a448-e0178cb77095",
   "metadata": {},
   "source": [
    "Ans. Iterators are the object that allows to traverse through all the elements of a collection and return one element at a time.\n",
    "    iter() method is used to initialized a iterator object.\n",
    "    next() method is used for iteration.\n",
    "    example is given below:"
   ]
  },
  {
   "cell_type": "code",
   "execution_count": null,
   "id": "58c5277a-ed1a-4420-b002-f3ed27844788",
   "metadata": {},
   "outputs": [],
   "source": [
    "list1=[2,4,6,8,10,12,14,16,18,20]\n",
    "list2=iter(list1)\n",
    "print(\"first element of the given list is:\",next(list2))\n",
    "print(\"second element of the given list is:\",next(list2))\n",
    "print(\"third element of the given list is:\",next(list2))\n",
    "print(\"fourth element of the given list is:\",next(list2))\n",
    "print(\"fifth element of the given list is:\",next(list2))"
   ]
  },
  {
   "cell_type": "markdown",
   "id": "37cea1be-599b-4748-8691-7c75af5b8879",
   "metadata": {},
   "source": [
    "Q4. What is a generator function in python? Why yield keyword is used? Give an example of a generator\n",
    "function."
   ]
  },
  {
   "cell_type": "markdown",
   "id": "e05aea52-4a73-4a6b-a86c-a12948f858a7",
   "metadata": {},
   "source": [
    "Ans. In python generator function is a function which returns iterators, basically when we want to produce a large sequence of values in our program but we don't want to store that values in the memory of the system we use generator function.\n",
    "generator function generates values using yield keyword, yield suspend the execution and send value to the caller and after that resumes function.\n",
    "example is given below:"
   ]
  },
  {
   "cell_type": "code",
   "execution_count": null,
   "id": "54f233c9-0748-4144-995f-610571bb4037",
   "metadata": {},
   "outputs": [],
   "source": [
    "def gen(a,b):\n",
    "    add=a+b\n",
    "    yield add"
   ]
  },
  {
   "cell_type": "code",
   "execution_count": null,
   "id": "c329cafa-825e-4f69-a703-113924df9a9e",
   "metadata": {},
   "outputs": [],
   "source": [
    "p=gen(4,5)\n",
    "for i in p:\n",
    "    print(i)"
   ]
  },
  {
   "cell_type": "markdown",
   "id": "8f91bd2b-6f4c-4e15-9e9e-2575d6f1f249",
   "metadata": {},
   "source": [
    "Q5. Create a generator function for prime numbers less than 1000. Use the next() method to print the\n",
    "first 20 prime numbers."
   ]
  },
  {
   "cell_type": "code",
   "execution_count": null,
   "id": "8f67d6d5-41ad-4dd0-8040-4bcd00598d31",
   "metadata": {},
   "outputs": [],
   "source": [
    "# A generator function forms a list of prime numbers less than 1000\n",
    "def gen_prime():\n",
    "    l=[]\n",
    "    for i in range(2,1001):\n",
    "            for j in range(2,1001):\n",
    "                if i%j == 0:\n",
    "                    break\n",
    "            if i == j:\n",
    "                l.append(i)\n",
    "    yield l"
   ]
  },
  {
   "cell_type": "code",
   "execution_count": null,
   "id": "db11991f-8974-492a-b3dd-acc9180c281e",
   "metadata": {},
   "outputs": [],
   "source": [
    "# To print first 20 prime number from list using next()\n",
    "r=0\n",
    "k=gen_prime()\n",
    "for m in k:\n",
    "    lp=iter(m)\n",
    "    while r<20:\n",
    "        print(next(lp))\n",
    "        r=r+1"
   ]
  },
  {
   "cell_type": "markdown",
   "id": "a8b53b95-be99-4c43-bcd2-6bbbd67c18d6",
   "metadata": {},
   "source": [
    "Q6. Write a python program to print the first 10 Fibonacci numbers using a while loop."
   ]
  },
  {
   "cell_type": "code",
   "execution_count": null,
   "id": "ef997713-6479-4fbf-bc87-9480fb036c4c",
   "metadata": {},
   "outputs": [],
   "source": [
    "# 10 fibonacci numbers\n",
    "\n",
    "p=range(0,11)\n",
    "a,b=0,1\n",
    "count=0\n",
    "for i in p:\n",
    "    while count<i:\n",
    "        print(a)\n",
    "        a,b=b,a+b\n",
    "        count+=1"
   ]
  },
  {
   "cell_type": "markdown",
   "id": "315771e5-2737-4152-ab66-0f4e0de69c83",
   "metadata": {},
   "source": [
    "Q7. Write a List Comprehension to iterate through the given string: ‘pwskills’.\n",
    "Expected output: ['p', 'w', 's', 'k', 'i', 'l', 'l', 's']"
   ]
  },
  {
   "cell_type": "code",
   "execution_count": null,
   "id": "92341a69-916f-45a1-9be6-6f151f278fef",
   "metadata": {},
   "outputs": [],
   "source": [
    "s='pwskills'\n",
    "[i for i in s]"
   ]
  },
  {
   "cell_type": "markdown",
   "id": "6d338776-3283-454b-8893-dceb834f88cc",
   "metadata": {},
   "source": [
    "Q8. Write a python program to check whether a given number is Palindrome or not using a while loop."
   ]
  },
  {
   "cell_type": "code",
   "execution_count": null,
   "id": "1feea154-5f1b-41c1-b9d9-43ac825598e2",
   "metadata": {},
   "outputs": [],
   "source": [
    "#program for a given number is palindrome or not\n",
    "\n",
    "p=int(input(\"enter a number:\"))\n",
    "while str(p)==str(p)[::-1]:\n",
    "    print('number is palindrome')\n",
    "    break\n",
    "else:\n",
    "    print('number is not palindrome')"
   ]
  },
  {
   "cell_type": "markdown",
   "id": "e75f8b11-bae6-422e-9258-c3012f7bc8e4",
   "metadata": {},
   "source": [
    " Q9. Write a code to print odd numbers from 1 to 100 using list comprehension. "
   ]
  },
  {
   "cell_type": "code",
   "execution_count": null,
   "id": "64b97899-1b5e-4084-9380-a2d829e26939",
   "metadata": {},
   "outputs": [],
   "source": [
    "p=range(1,100)\n",
    "[i for i in p if i%2!=0]"
   ]
  }
 ],
 "metadata": {
  "kernelspec": {
   "display_name": "Python 3 (ipykernel)",
   "language": "python",
   "name": "python3"
  },
  "language_info": {
   "codemirror_mode": {
    "name": "ipython",
    "version": 3
   },
   "file_extension": ".py",
   "mimetype": "text/x-python",
   "name": "python",
   "nbconvert_exporter": "python",
   "pygments_lexer": "ipython3",
   "version": "3.10.8"
  }
 },
 "nbformat": 4,
 "nbformat_minor": 5
}
