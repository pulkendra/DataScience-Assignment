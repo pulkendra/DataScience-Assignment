{
 "cells": [
  {
   "cell_type": "markdown",
   "id": "90d81ea4-2397-417c-a2b1-b05c3db5c960",
   "metadata": {},
   "source": [
    "1. Who developed Python Programming Language?\n",
    "\n",
    "Ans. Guido Van Rossum developed Python programming language."
   ]
  },
  {
   "cell_type": "markdown",
   "id": "c29dbe15-ac1a-45b7-9a94-866f9301910f",
   "metadata": {},
   "source": [
    "2. Which type of Programming does Python support?\n",
    "\n",
    "Ans. Python basically supports object-oriented, structured, and functional programming."
   ]
  },
  {
   "cell_type": "markdown",
   "id": "696d4b1b-d568-4f48-b335-1fbe1d4abb4e",
   "metadata": {},
   "source": [
    "3. Is Python case sensitive when dealing with identifiers?\n",
    "\n",
    "Ans. Yes Python is a case sensitive language even dealing with identifiers."
   ]
  },
  {
   "cell_type": "markdown",
   "id": "66d495b9-f811-4be1-ba72-2309af99f5a8",
   "metadata": {},
   "source": [
    "4. What is the correct extension of the Python file?\n",
    "\n",
    " Ans.  .py is the correct extension for a Python file."
   ]
  },
  {
   "cell_type": "markdown",
   "id": "27d39b9e-2bac-4ebf-8059-7a8bc21ed0f7",
   "metadata": {},
   "source": [
    "5. Is Python code compiled or interpreted?\n",
    "\n",
    "Ans. Python code is both compiled and interpreted, but in general saying Python code is interpreted."
   ]
  },
  {
   "cell_type": "markdown",
   "id": "3ccec674-5fbc-4f27-8450-f0d8b78ad3e6",
   "metadata": {},
   "source": [
    "6. Name a few blocks of code used to define in Python language? \n",
    "\n",
    "Ans. Python is a intelligent language, it understands automatically as we type code, but there are something that should be defined in python like functions."
   ]
  },
  {
   "cell_type": "markdown",
   "id": "a591b087-46bf-4091-81f8-014376b46c67",
   "metadata": {},
   "source": [
    "7. State a character used to give single-line comments in Python?\n",
    "\n",
    "Ans. Hash character (#)or pound sign is used to give single-line comment in python."
   ]
  },
  {
   "cell_type": "markdown",
   "id": "61b744fe-c598-4d10-83ce-0dc60bfac5ec",
   "metadata": {},
   "source": [
    "8. Mention functions which can help us to find the version of python that we are currently working on? \n",
    "\n",
    "Ans. To find the version of Python we are currently working on we use sys.version command after importing sys."
   ]
  },
  {
   "cell_type": "code",
   "execution_count": 5,
   "id": "732725ad-aa6c-40e3-9261-ae38c3eb6284",
   "metadata": {},
   "outputs": [],
   "source": [
    "import sys"
   ]
  },
  {
   "cell_type": "code",
   "execution_count": 7,
   "id": "3d2d4dbd-f958-497e-983a-af6c8ede7402",
   "metadata": {},
   "outputs": [
    {
     "data": {
      "text/plain": [
       "'3.10.8 | packaged by conda-forge | (main, Nov 22 2022, 08:26:04) [GCC 10.4.0]'"
      ]
     },
     "execution_count": 7,
     "metadata": {},
     "output_type": "execute_result"
    }
   ],
   "source": [
    "sys.version"
   ]
  },
  {
   "cell_type": "markdown",
   "id": "64be2250-2722-4b78-b010-a11e51db623a",
   "metadata": {},
   "source": [
    "9. Python supports the creation of anonymous functions at runtime, using a construct called ?\n",
    "\n",
    "Ans. By using lambda function Python supports creation of anonymous functions at runtime."
   ]
  },
  {
   "cell_type": "markdown",
   "id": "c9144a85-804a-40c2-89ce-96cb6c8737c6",
   "metadata": {},
   "source": [
    "10. What does pip stand for python? \n",
    "\n",
    "Ans. pip stands for preferred installer program, which is a package manager in Python."
   ]
  },
  {
   "cell_type": "markdown",
   "id": "d95b787b-023f-4eaf-b12e-37877bd02bfa",
   "metadata": {},
   "source": [
    "11. Mention a few built-in functions in python? \n",
    "\n",
    "Ans. Some built-in functions in Python are type(), count(), append(), extend(), pop(), remove(), sort(), keys(), values(), iteams(), etc."
   ]
  },
  {
   "cell_type": "markdown",
   "id": "b8391437-5054-4810-a6a1-736e85ddd1b1",
   "metadata": {},
   "source": [
    "12. What is the maximum possible length of an identifier in Python?\n",
    "\n",
    "Ans. There is not any possible length for an indentifier, they can be of any length."
   ]
  },
  {
   "cell_type": "markdown",
   "id": "3c9571f7-c442-44d3-b95a-d262e5aa1f3b",
   "metadata": {},
   "source": [
    "13. What are the benefits of using Python?\n",
    "\n",
    "Ans. Python is a high-level programming language with many benefits like easy to understand, smaller code as compare to C and Java, open source, extensive support libraries, dynamically typeed, etc."
   ]
  },
  {
   "cell_type": "markdown",
   "id": "e718778e-fdf6-4325-adef-f0f89111bbeb",
   "metadata": {},
   "source": [
    "14. How is memory managed in Python?\n",
    "\n",
    "Ans. In Python memory management is done automatically by garbage collector."
   ]
  },
  {
   "cell_type": "markdown",
   "id": "2a4b3d14-057c-4802-b9c8-7d1b1d05550c",
   "metadata": {},
   "source": [
    "15. How to install Python on Windows and set path variables?\n",
    "\n",
    "Ans. We can install Python on windows by simpilly downloading windows executables from www.python.org, and we can set path varriables by editing in environmental variables in control panel of a windows system."
   ]
  },
  {
   "cell_type": "markdown",
   "id": "845f2a05-40ea-4826-ba62-2d2ff0278026",
   "metadata": {},
   "source": [
    "16. Is indentation required in python?\n",
    "\n",
    "Ans. Yes indentation is required in Python."
   ]
  }
 ],
 "metadata": {
  "kernelspec": {
   "display_name": "Python 3 (ipykernel)",
   "language": "python",
   "name": "python3"
  },
  "language_info": {
   "codemirror_mode": {
    "name": "ipython",
    "version": 3
   },
   "file_extension": ".py",
   "mimetype": "text/x-python",
   "name": "python",
   "nbconvert_exporter": "python",
   "pygments_lexer": "ipython3",
   "version": "3.10.8"
  }
 },
 "nbformat": 4,
 "nbformat_minor": 5
}
