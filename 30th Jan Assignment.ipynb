{
 "cells": [
  {
   "cell_type": "markdown",
   "id": "26c71aef-f4ba-4e3f-8e4b-ca577412ae91",
   "metadata": {},
   "source": [
    "1. Write a program to accept percentage from the user and display the grade according to the following :\n",
    "\n",
    ">90           A \n",
    ">80 and <=90  B \n",
    ">=60 and <=80 C \n",
    "below 60      D \n"
   ]
  },
  {
   "cell_type": "code",
   "execution_count": null,
   "id": "9e9e609c-8dcb-4e99-9b90-b1625003ee20",
   "metadata": {},
   "outputs": [],
   "source": [
    "p=float(input(\"enter your marks:\"))\n",
    "if p>90:\n",
    "    print(\"you have obtain grade : A\")\n",
    "elif p>80 and p<=90:\n",
    "    print(\"you have obtain grade : B\")\n",
    "elif p>60 and p<=80:\n",
    "    print(\"you have obtain grade : C\")\n",
    "else:\n",
    "    print(\"you have obtain grade : D\")"
   ]
  },
  {
   "cell_type": "markdown",
   "id": "62437f52-1686-4fe8-91f6-5cba22877819",
   "metadata": {},
   "source": [
    "2. Write a program to accept the cost price of a bike and display the road tax to be paid according to the following criteria:\n",
    "\n",
    "Tax   price\n",
    "15%   >100000\n",
    "10%   >50000 and <=100000 \n",
    "5%    <=50000\n"
   ]
  },
  {
   "cell_type": "code",
   "execution_count": null,
   "id": "c1408c1e-2391-45e1-8267-155877206478",
   "metadata": {},
   "outputs": [],
   "source": [
    "price=int(input('enter the price of your bike:'))\n",
    "if price>100000:\n",
    "    print(\"your road tax would be 15% and that is :\",(price*15)/100)\n",
    "elif price>50000 and price<=100000:\n",
    "    print(\"your road tax would be 10% and that is :\",(price*10)/100)\n",
    "elif price<=50000:\n",
    "    print(\"your road tax would be 5% and that is :\",(price*5)/100)"
   ]
  },
  {
   "cell_type": "markdown",
   "id": "cd9212bb-8027-41df-b946-56243de5f89c",
   "metadata": {},
   "source": [
    "3. Accept any city from the user and display monuments of that city.\n",
    "\n",
    "City     Monument\n",
    "Delhi    Red Fort\n",
    "Agra     Taj Mahal\n",
    "Jaipur   Jal Mahal"
   ]
  },
  {
   "cell_type": "code",
   "execution_count": null,
   "id": "d47a7d8f-7ead-481d-b1d9-baa143a10195",
   "metadata": {},
   "outputs": [],
   "source": [
    "city=input(\"enter your city :\")\n",
    "if city=='delhi':\n",
    "    print(\"The famous monument in Delhi is : Red Fort\")\n",
    "elif city=='agra':\n",
    "        print(\"The famous monument in Agra is : Taj Mahal\")\n",
    "elif city== 'jaipur':\n",
    "        print(\"The famous monument in Jaipur is : Jal Mahal\")\n",
    "    \n",
    "else:\n",
    "    print(\"wrong city entered!\")"
   ]
  },
  {
   "cell_type": "markdown",
   "id": "3a962ba6-01cc-4cf4-8ddd-87c7c83dbe81",
   "metadata": {},
   "source": [
    "4. Check how many times a given number can be divided by 3 before it is less than or equal to 10 ?"
   ]
  },
  {
   "cell_type": "code",
   "execution_count": null,
   "id": "44692651-e0cd-4bc3-b25a-0f69269459a0",
   "metadata": {},
   "outputs": [],
   "source": [
    "count=0\n",
    "num=int(input(\"enter a number:\"))\n",
    "while num>10:\n",
    "    num=num/3\n",
    "    count=count+1\n",
    "print(\"given number is divided by 3 :\",count,\"times\")\n"
   ]
  },
  {
   "cell_type": "markdown",
   "id": "3ab87c04-8456-4f7e-9f09-df437bf7b810",
   "metadata": {},
   "source": [
    "5. Why and When to Use while Loop in Python give a detailed description with example "
   ]
  },
  {
   "cell_type": "markdown",
   "id": "bc82be30-957c-48ad-8df0-4c2f5f10e272",
   "metadata": {},
   "source": [
    "Ans. - while loop in python\n",
    "we can use any loop in python if we want to run a block of code in repeatative manner, a loop can be used to create a cycle in the program where a segment of code run multiple times untill it gains the desired result.\n",
    "While loop is basically a control statement in which first the given condition is checked if it is true then the True block of the loop is activate and run simultiniously untill the given condition is False.\n",
    "When the condition is false then the False block of the loop activate and it exits the cycle of code and hence loop terminated.  \n",
    "\n",
    "example of while loop is given below if we want to find the factorial of a given number."
   ]
  },
  {
   "cell_type": "code",
   "execution_count": null,
   "id": "285f5fc3-d05d-40b4-8975-3188a919acd8",
   "metadata": {},
   "outputs": [],
   "source": [
    "count=1\n",
    "num=int(input(\"enter a number:\"))\n",
    "if num<=0:\n",
    "    print(\"given number is less then 0 enter another number\")\n",
    "else:\n",
    "    while num>0:\n",
    "        count=count*num\n",
    "        num=num-1\n",
    "    print(\"the factorial of given number is:\",count)\n"
   ]
  },
  {
   "cell_type": "markdown",
   "id": "95374e56-cf34-4677-b0d1-def7ec63f3df",
   "metadata": {},
   "source": [
    "6. Use nested while loop to print three different pattern"
   ]
  },
  {
   "cell_type": "code",
   "execution_count": null,
   "id": "800933b3-5611-4aee-b43f-9d79de39ae05",
   "metadata": {},
   "outputs": [],
   "source": [
    "p=int(input('enter a number for pattern:'))\n",
    "if p==1:\n",
    "    print(\"this is your first pattern\")\n",
    "    i,j=5,5\n",
    "    while i>=1:\n",
    "        while j>=1:\n",
    "            print(\"*\"*j)\n",
    "            j=j-1\n",
    "    i=i-1\n",
    "elif p==2:\n",
    "    print(\"this is your second pattern\")\n",
    "    i,j=1,1\n",
    "    while i<=5:\n",
    "        while j<=5:\n",
    "            print('*'*j)\n",
    "            j=j+1\n",
    "    i=i+1\n",
    "elif p==3:\n",
    "    print(\"this is your third pattern\")\n",
    "    n = int(input('Enter the number of rows: '))\n",
    "    i = 1\n",
    "    while i<=n:\n",
    "        print(\" \"*(n-i) + \"* \" * i)\n",
    "        i+=1\n",
    "else:\n",
    "    print(\"there is only three pattern available, choose from one to three!\")\n",
    "    "
   ]
  },
  {
   "cell_type": "markdown",
   "id": "52cee13a-2fee-4360-9674-c9dbbc94a076",
   "metadata": {},
   "source": [
    "7. Reverse a while loop to display numbers from 10 to 1."
   ]
  },
  {
   "cell_type": "code",
   "execution_count": null,
   "id": "3d113c19-1d70-45e1-bf5a-f833f2406fef",
   "metadata": {},
   "outputs": [],
   "source": [
    "a=10\n",
    "while a>=1:\n",
    "    print(a)\n",
    "    a=a-1"
   ]
  },
  {
   "cell_type": "markdown",
   "id": "76e92488-415a-44be-b871-092b24b13d36",
   "metadata": {},
   "source": [
    "8. Reverse a while loop to display numbers from 10 to 1."
   ]
  },
  {
   "cell_type": "code",
   "execution_count": null,
   "id": "073a1220-70b0-4bb7-99f0-783b5f5fe091",
   "metadata": {},
   "outputs": [],
   "source": [
    "a=10\n",
    "while a>=1:\n",
    "    print(a)\n",
    "    a=a-1"
   ]
  }
 ],
 "metadata": {
  "kernelspec": {
   "display_name": "Python 3 (ipykernel)",
   "language": "python",
   "name": "python3"
  },
  "language_info": {
   "codemirror_mode": {
    "name": "ipython",
    "version": 3
   },
   "file_extension": ".py",
   "mimetype": "text/x-python",
   "name": "python",
   "nbconvert_exporter": "python",
   "pygments_lexer": "ipython3",
   "version": "3.10.8"
  }
 },
 "nbformat": 4,
 "nbformat_minor": 5
}
