{
 "cells": [
  {
   "cell_type": "markdown",
   "id": "57314a42-68a8-44c5-9739-943f35204bef",
   "metadata": {},
   "source": [
    "Q1. Explain Class and Object with respect to Object-Oriented Programming. Give a suitable example."
   ]
  },
  {
   "cell_type": "markdown",
   "id": "7ae1df49-df89-4944-98a2-e29d16e63f62",
   "metadata": {},
   "source": [
    "Ans. In Object-Oriented programming class is a user defined data type which acts as a skeleton or blueprint of the real world entity and that real world entity is object.\n",
    "Once we have written a class and define it, we can use it to create as many object as we can based on that class. Basically object is the instance of the class all the data menbers and members function of the class are accessed with the help of the object.\n",
    "example is given below."
   ]
  },
  {
   "cell_type": "code",
   "execution_count": null,
   "id": "3360b1de-f979-4b8a-ace6-ad596c07220f",
   "metadata": {},
   "outputs": [],
   "source": [
    "class demo:\n",
    "    def wel_func(self):\n",
    "        print(\"Welcome to the python!\")\n",
    "p1=demo()\n",
    "p1.wel_func()"
   ]
  },
  {
   "cell_type": "markdown",
   "id": "349b5907-e56d-4c54-873b-26cbcea1770e",
   "metadata": {},
   "source": [
    "Q2. Name the four pillars of OOPs."
   ]
  },
  {
   "cell_type": "markdown",
   "id": "07681ad0-7464-45d9-bdfe-f59de2196da6",
   "metadata": {},
   "source": [
    "Ans. The four pillers of the Object-Oriented programming are Inheritance, Polymorphism, Encapsulation, and Abstraction."
   ]
  },
  {
   "cell_type": "markdown",
   "id": "9eae5891-7876-43d7-95b1-2f551bea7c47",
   "metadata": {},
   "source": [
    "Q3. Explain why the __init__() function is used. Give a suitable example."
   ]
  },
  {
   "cell_type": "markdown",
   "id": "8feef9a7-3839-40aa-af4a-ae5a4a018cb4",
   "metadata": {},
   "source": [
    "Ans. __init__ in python used as a constructer, it is used to initializing the data members of the class when the object of the class is created.\n",
    "Example is given below"
   ]
  },
  {
   "cell_type": "code",
   "execution_count": 7,
   "id": "8bb506f4-a64b-4e51-b2e6-d21eee79f131",
   "metadata": {},
   "outputs": [],
   "source": [
    "#creating a class with __init__ with two arguments name and city\n",
    "class demo1:\n",
    "    def __init__(self,name,city):\n",
    "        self.name=name\n",
    "        self.city=city\n",
    "    def re_turn(self):\n",
    "        return self.name,self.city\n",
    "    \n",
    "# creating the object of the class demo1\n",
    "w=demo1('rajesh','jaipur')\n",
    "\n",
    "# calling the re_turn function with object\n",
    "w.re_turn()\n",
    "    "
   ]
  },
  {
   "cell_type": "markdown",
   "id": "f4439eea-b166-42a3-b472-c35090f405ab",
   "metadata": {},
   "source": [
    "Q4. Why self is used in OOPs?"
   ]
  },
  {
   "cell_type": "markdown",
   "id": "f29f344d-efdb-4406-a09e-5269e544a61f",
   "metadata": {},
   "source": [
    "Ans. self represents the instance of the class, by using self we can access the attributes and methods of the class. self binds the object of class with given arguments."
   ]
  },
  {
   "cell_type": "markdown",
   "id": "0a464151-8cf8-402e-a9e9-ee3a9aad4582",
   "metadata": {},
   "source": [
    "Q5. What is inheritance? Give an example for each type of inheritance."
   ]
  },
  {
   "cell_type": "markdown",
   "id": "e958c9dc-8b0b-4772-abf4-d349ca125856",
   "metadata": {},
   "source": [
    "Ans. Inheritance is a concept in oop which allows us to create hierarchy of the classes, that share properties and methods by deriving from parent class to child class. it provide reusability of the code.\n",
    "There are five types of inheritance in the opps.\n",
    "1. Single Inheritance\n",
    "2. Multiple Inheritance\n",
    "3. Multilevel Inheritance\n",
    "4. Hierarical Inheritnce\n",
    "5. Hybrid Inheritance\n",
    "example is given below"
   ]
  },
  {
   "cell_type": "code",
   "execution_count": 11,
   "id": "a8b395e4-1544-46f1-8a1e-0b66261de1ce",
   "metadata": {},
   "outputs": [],
   "source": [
    "# simple inheritance\n",
    "\n",
    "class parent:\n",
    "    def parent_fun(self):\n",
    "        print(\"this function is from parent class\")\n",
    "\n",
    "class child1(parent):\n",
    "    def child1_fun(self):\n",
    "        print(\"this function is from child1 class\")\n",
    "\n",
    "k=child1()\n",
    "k.child1_fun()\n",
    "k.parent_fun()"
   ]
  },
  {
   "cell_type": "code",
   "execution_count": 17,
   "id": "627415d8-6331-48be-aa70-c523b5808ae2",
   "metadata": {},
   "outputs": [],
   "source": [
    "# multiple Inheritance\n",
    "\n",
    "class parent1:\n",
    "    def parent1_fun(self):\n",
    "        print(\"this function is from parent1 class\")\n",
    "        \n",
    "class parent2:\n",
    "    def parent2_fun(self):\n",
    "        print(\"this function is from parent2 class\")\n",
    "        \n",
    "class child2(parent1,parent2):\n",
    "    def child2_fun(self):\n",
    "        print(\"this function is from child2 class\")\n",
    "        \n",
    "        \n",
    "pk=child2()\n",
    "pk.parent1_fun()\n",
    "pk.parent2_fun()\n",
    "pk.child2_fun()\n"
   ]
  },
  {
   "cell_type": "code",
   "execution_count": 23,
   "id": "1cfc1fb1-4fd5-4bde-92fa-277107724572",
   "metadata": {},
   "outputs": [],
   "source": [
    "# miltilevel inheritance\n",
    "\n",
    "\n",
    "class parent11:\n",
    "    def parent11_fun(self):\n",
    "        print(\"this function is from parent11 class\")\n",
    "        \n",
    "class parent21(parent11):\n",
    "    def parent21_fun(self):\n",
    "        print(\"this function is from parent21 class\")\n",
    "        \n",
    "class child21(parent21):\n",
    "    def child21_fun(self):\n",
    "        print(\"this function is from child21 class\")\n",
    "        \n",
    "        \n",
    "rk=child21()\n",
    "rk.parent11_fun()\n",
    "rk.parent21_fun()\n",
    "rk.child21_fun()\n"
   ]
  },
  {
   "cell_type": "code",
   "execution_count": null,
   "id": "11e90c30-55f9-4d0c-8373-7e513e005d80",
   "metadata": {},
   "outputs": [],
   "source": [
    "# Hierarical Inheritance\n",
    "\n",
    "\n",
    "class parent:\n",
    "    def parent_fun(self):\n",
    "        print(\"this function is from parent class\")\n",
    "\n",
    "class child1(parent):\n",
    "    def child1_fun(self):\n",
    "        print(\"this function is from child1 class\")\n",
    "        \n",
    "class child2(parent):\n",
    "    def child2_fun(self):\n",
    "        print(\"this function is from child2 class\")\n",
    "        \n",
    "jp=child1()\n",
    "jk=child2()\n",
    "jp.parent_fun()\n",
    "jk.parent_fun()"
   ]
  },
  {
   "cell_type": "code",
   "execution_count": null,
   "id": "0aaea3f8-d2da-4f6e-9780-b3a5cf6991fc",
   "metadata": {},
   "outputs": [],
   "source": [
    "# Hybrid Inheritance\n",
    "\n",
    "\n",
    "class school:\n",
    "    def school_fun(self):\n",
    "        print(\"this function is from school class\")\n",
    "        \n",
    "class student1(school):\n",
    "    def student1_fun(self):\n",
    "        print(\"this function is from student1 class\")\n",
    "        \n",
    "        \n",
    "class student2(school):\n",
    "    def student2_fun(self):\n",
    "        print(\"this function is from student2 class\")\n",
    "        \n",
    "        \n",
    "class student3(student2,school):\n",
    "    def student3_fun(self):\n",
    "        print(\"this function is from student3 class\")\n",
    "        \n",
    "kk=student3()\n",
    "kk.school_fun()\n",
    "kk.student2_fun()\n",
    "kk.student3_fun()"
   ]
  }
 ],
 "metadata": {
  "kernelspec": {
   "display_name": "Python 3 (ipykernel)",
   "language": "python",
   "name": "python3"
  },
  "language_info": {
   "codemirror_mode": {
    "name": "ipython",
    "version": 3
   },
   "file_extension": ".py",
   "mimetype": "text/x-python",
   "name": "python",
   "nbconvert_exporter": "python",
   "pygments_lexer": "ipython3",
   "version": "3.10.8"
  }
 },
 "nbformat": 4,
 "nbformat_minor": 5
}
