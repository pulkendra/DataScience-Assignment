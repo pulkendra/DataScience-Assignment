{
 "cells": [
  {
   "cell_type": "markdown",
   "id": "644f4727-df02-47a5-ae38-4e1e8a81cf96",
   "metadata": {},
   "source": [
    "Q1. Create a python program to sort the given list of tuples based on integer value using a\n",
    "lambda function.\n",
    "[('Sachin Tendulkar', 34357), ('Ricky Ponting', 27483), ('Jack Kallis', 25534), ('Virat Kohli', 24936)]\n"
   ]
  },
  {
   "cell_type": "code",
   "execution_count": null,
   "id": "16308ffa-1eb8-4c63-965a-4caacf1988d4",
   "metadata": {},
   "outputs": [],
   "source": [
    "#sort of the given list of tuples\n",
    "\n",
    "l1=[('Sachin Tendulkar', 34357), ('Ricky Ponting', 27483), ('Jack Kallis', 25534), ('Virat Kohli', 24936)]\n",
    "l1.sort(key=lambda x:x[1])\n",
    "print(l1)"
   ]
  },
  {
   "cell_type": "markdown",
   "id": "24cd99cc-d544-4592-9dd9-ac3547a97a60",
   "metadata": {},
   "source": [
    "Q2. Write a Python Program to find the squares of all the numbers in the given list of integers using\n",
    "lambda and map functions.\n",
    "[1, 2, 3, 4, 5, 6, 7, 8, 9, 10]"
   ]
  },
  {
   "cell_type": "code",
   "execution_count": null,
   "id": "8104ef5d-4d4c-4ac8-a403-e51c637b37d2",
   "metadata": {},
   "outputs": [],
   "source": [
    "# Square of the given list using lambda and map functions\n",
    "\n",
    "l2=[1,2,3,4,5,6,7,8,9,10]\n",
    "list(map(lambda x:x**2,l2))"
   ]
  },
  {
   "cell_type": "markdown",
   "id": "89beb14a-cda4-42b2-8b5d-82a270ba22cd",
   "metadata": {},
   "source": [
    "Q3. Write a python program to convert the given list of integers into a tuple of strings. Use map and\n",
    "lambda functions\n",
    "Given String: [1, 2, 3, 4, 5, 6, 7, 8, 9, 10]\n",
    "Expected output: ('1', '2', '3', '4', '5', '6', '7', '8', '9', '10')"
   ]
  },
  {
   "cell_type": "code",
   "execution_count": null,
   "id": "62430b4a-f03d-4a35-b43d-68fe40586803",
   "metadata": {},
   "outputs": [],
   "source": [
    "# given list converted into tuple of string\n",
    "\n",
    "l3=[1,2,3,4,5,6,7,8,9,10]\n",
    "tuple(map(lambda x:str(x),l3))"
   ]
  },
  {
   "cell_type": "markdown",
   "id": "96c129e8-2d68-4589-afa8-e4ce48838a00",
   "metadata": {},
   "source": [
    "Q4. Write a python program using reduce function to compute the product of a list containing numbers\n",
    "from 1 to 25."
   ]
  },
  {
   "cell_type": "code",
   "execution_count": 76,
   "id": "8f4aca99-36dd-4b39-8092-ba682f5cb0bf",
   "metadata": {},
   "outputs": [],
   "source": [
    "# product of a list using reduce function\n",
    "\n",
    "from functools import reduce\n",
    "num=range(1,26)\n",
    "l4=[]\n",
    "for i in num:\n",
    "    l4.append(i)\n",
    "reduce(lambda x,y:x*y,l4)"
   ]
  },
  {
   "cell_type": "markdown",
   "id": "93e1bc00-0bbe-43ed-afcc-f5279f3dd94e",
   "metadata": {},
   "source": [
    "Q5. Write a python program to filter the numbers in a given list that are divisible by 2 and 3 using the\n",
    "filter function.\n",
    "[2, 3, 6, 9, 27, 60, 90, 120, 55, 46]"
   ]
  },
  {
   "cell_type": "code",
   "execution_count": null,
   "id": "9e59e548-5642-4e2a-96da-b5706dfede49",
   "metadata": {},
   "outputs": [],
   "source": [
    "# filter the elements of the list which are divisible by 2 and 3 using filter function\n",
    "\n",
    "l5=[2, 3, 6, 9, 27, 60, 90, 120, 55, 46]\n",
    "list(filter(lambda x:x%2==0 and x%3==0,l5))"
   ]
  },
  {
   "cell_type": "markdown",
   "id": "80633c5c-79f3-4905-9fb0-d6b2c7cfb7be",
   "metadata": {},
   "source": [
    "Q6. Write a python program to find palindromes in the given list of strings using lambda and filter\n",
    "function.\n",
    "['python', 'php', 'aba', 'radar', 'level']"
   ]
  },
  {
   "cell_type": "code",
   "execution_count": null,
   "id": "21b03537-40d7-4cca-a09f-f0b14fc205eb",
   "metadata": {},
   "outputs": [],
   "source": [
    "# filter to find palindrome of given list of strings\n",
    "\n",
    "l6=['python', 'php', 'aba', 'radar', 'level']\n",
    "list(filter(lambda x:x==x[::-1],l6))"
   ]
  }
 ],
 "metadata": {
  "kernelspec": {
   "display_name": "Python 3 (ipykernel)",
   "language": "python",
   "name": "python3"
  },
  "language_info": {
   "codemirror_mode": {
    "name": "ipython",
    "version": 3
   },
   "file_extension": ".py",
   "mimetype": "text/x-python",
   "name": "python",
   "nbconvert_exporter": "python",
   "pygments_lexer": "ipython3",
   "version": "3.10.8"
  }
 },
 "nbformat": 4,
 "nbformat_minor": 5
}
