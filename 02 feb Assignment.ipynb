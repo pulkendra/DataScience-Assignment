{
 "cells": [
  {
   "cell_type": "markdown",
   "id": "204d5cc6-a309-4e02-9dde-ac55c2788760",
   "metadata": {},
   "source": [
    "Q1. Explain with an example each when to use a for loop and a while loop."
   ]
  },
  {
   "cell_type": "markdown",
   "id": "51ab9094-ad1b-47ab-bfb9-c8f918edc456",
   "metadata": {},
   "source": [
    "Ans: In a programming language we use for loop when we know the termination point or the end point of the loop and for loop        itrates the next value itself.\n",
    "     But in case of while loop it runs its true block untill the given condition is true.\n",
    "     example is given below"
   ]
  },
  {
   "cell_type": "code",
   "execution_count": null,
   "id": "848ac7dd-0b57-48d7-8aa9-a8975ae0de3c",
   "metadata": {},
   "outputs": [],
   "source": [
    "# for loop\n",
    "for i in range(1,7):\n",
    "    print(i)\n"
   ]
  },
  {
   "cell_type": "code",
   "execution_count": null,
   "id": "07307cfb-ca6f-4ceb-8721-0b842ba81ffe",
   "metadata": {},
   "outputs": [],
   "source": [
    "# while loop\n",
    "p=0\n",
    "while p<7:\n",
    "    print(p**2)\n",
    "    p+=1"
   ]
  },
  {
   "cell_type": "markdown",
   "id": "998bc3c5-97f6-4740-b14d-4d300ff64540",
   "metadata": {},
   "source": [
    "Q2. Write a python program to print the sum and product of the first 10 natural numbers using for\n",
    "    and while loop."
   ]
  },
  {
   "cell_type": "code",
   "execution_count": null,
   "id": "2afaa34c-1dff-41c2-9b32-ed625a7ea0d9",
   "metadata": {},
   "outputs": [],
   "source": [
    "# Addition and Multiplication of Natural numbers(user defined) using for loop\n",
    "\n",
    "n=int((input('enter a natural no:')))\n",
    "p=range(1,n+1)\n",
    "add=0\n",
    "mult=1\n",
    "for i in p:\n",
    "    add=add+i\n",
    "    mult=mult*i\n",
    "print('Addition of',n,'Natural numbers is:',add)\n",
    "print('Multiplication of',n,'Natural number is:',mult)\n",
    "    "
   ]
  },
  {
   "cell_type": "code",
   "execution_count": null,
   "id": "1feb4831-4c22-421b-bf27-665905d9fbb5",
   "metadata": {},
   "outputs": [],
   "source": [
    "# Addition and Multiplication of first 10 Natural numbers using while loop\n",
    "sum=0\n",
    "mult=1\n",
    "p=1\n",
    "while p<=10:\n",
    "    sum = sum+p\n",
    "    mult=mult*p\n",
    "    p+=1\n",
    "    \n",
    "print('Addition of 10 Natural numbers is:',sum)\n",
    "print('Multiplication of 10 Natural numbers is:',mult)"
   ]
  },
  {
   "cell_type": "markdown",
   "id": "c5db15fe-8ee7-40ef-87ba-75a47d24595f",
   "metadata": {},
   "source": [
    "Q3. Create a python program to compute the electricity bill for a household. The per-unit charges in rupees are as follows:\n",
    "    For the first 100 units, the user will be charged Rs. 4.5 per unit, for the next 100 units, the user will be charged Rs. 6     per unit, and for the next 100 units, the user will be charged Rs. 10 per unit, After 300 units and above the user will be     charged Rs. 20 per unit.\n",
    "    You are required to take the units of electricity consumed in a month from the user as input."
   ]
  },
  {
   "cell_type": "code",
   "execution_count": null,
   "id": "1f4ab3b6-1a13-4f71-9fdf-e218cd5f34d1",
   "metadata": {},
   "outputs": [],
   "source": [
    "p=int(input(\"Enter your electricity consuption unit:\"))\n",
    "if p<=100:\n",
    "    print(\"your electricity bill is:\",(p*4.5))\n",
    "elif p>100 and p<=200:\n",
    "        print(\"your electricity bill is:\",((p-100)*6)+(100*4.5))\n",
    "elif p>200 and p<=300:\n",
    "        print(\"your electricity bill none is :\",(p-200)*10+(100*4.5)+(100*6))\n",
    "else:\n",
    "    print(\"your electricity bill is:\",((p-300)*20)+(100*4.5)+(100*6)+(100*10))"
   ]
  },
  {
   "cell_type": "markdown",
   "id": "657a2b61-4880-448c-be30-d921451e3fd4",
   "metadata": {},
   "source": [
    " Q4. Create a list of numbers from 1 to 100. Use for loop and while loop to calculate the cube of each\n",
    "     number and if the cube of that number is divisible by 4 or 5 then append that number in a list and print\n",
    "     that list."
   ]
  },
  {
   "cell_type": "code",
   "execution_count": null,
   "id": "da4996bb-6c4b-415c-9ce4-823dd63381c3",
   "metadata": {},
   "outputs": [],
   "source": [
    "l=[]\n",
    "l1_for_sq=[]\n",
    "l2_for_cu=[]\n",
    "l3_while_sq=[]\n",
    "l4_while_cu=[]\n",
    "l5=[]\n",
    "j=0\n",
    "p=range(1,101)\n",
    "l=list(p)\n",
    "for i in l:\n",
    "    l1_for_sq.append(i**2)\n",
    "    l2_for_cu.append(i**3)\n",
    "while j<len(l):\n",
    "    l3_while_sq.append(l[j]**2)\n",
    "    l4_while_cu.append(l[j]**3)\n",
    "    j=j+1\n",
    "for k in l4_while_cu:\n",
    "    if k%4==0 or k%5==0:\n",
    "        l5.append(k)\n",
    "print(\"The desired list is:\",l5)"
   ]
  },
  {
   "cell_type": "markdown",
   "id": "74d8b79a-d4d8-4569-a0c4-36d562093737",
   "metadata": {},
   "source": [
    "Q5. Write a program to filter count vowels in the below-given string.\n",
    "    string = \"I want to become a data scientist\""
   ]
  },
  {
   "cell_type": "code",
   "execution_count": null,
   "id": "42dcab3c-9730-49d6-b24e-a4f70b8e02a8",
   "metadata": {},
   "outputs": [],
   "source": [
    "st=\"I want to become a data scientist\"\n",
    "count=0\n",
    "for k in st.lower():\n",
    "    if k=='a' or k=='e' or k=='i' or k=='o' or k=='u':\n",
    "        count=count+1\n",
    "print(\"the number of vowels in the given string is:\",count) "
   ]
  }
 ],
 "metadata": {
  "kernelspec": {
   "display_name": "Python 3 (ipykernel)",
   "language": "python",
   "name": "python3"
  },
  "language_info": {
   "codemirror_mode": {
    "name": "ipython",
    "version": 3
   },
   "file_extension": ".py",
   "mimetype": "text/x-python",
   "name": "python",
   "nbconvert_exporter": "python",
   "pygments_lexer": "ipython3",
   "version": "3.10.8"
  }
 },
 "nbformat": 4,
 "nbformat_minor": 5
}
